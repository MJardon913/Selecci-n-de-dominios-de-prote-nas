{
 "cells": [
  {
   "cell_type": "code",
   "execution_count": 2,
   "id": "36ac6d3c-8aef-4cac-97d4-57ad1098b9bc",
   "metadata": {},
   "outputs": [],
   "source": [
    "import pandas as pd"
   ]
  },
  {
   "cell_type": "code",
   "execution_count": 3,
   "id": "c8b58628-e141-4410-8fd4-a5d1693b50b6",
   "metadata": {},
   "outputs": [],
   "source": [
    "df_JCM4529 = pd.read_csv(\"JCM4529_anotado.metadata.CBPs.tsv\", sep='\\t')\n",
    "df_NRRL_B12102 = pd.read_csv(\"NRRL_B-12102_anotado.metadata.CBPs.tsv\", sep='\\t')\n",
    "df_SID8161 = pd.read_csv(\"SID8161_anotado.metadata.CBPs.tsv\", sep='\\t')\n",
    "df_NRRL_B2410 = pd.read_csv(\"NRRL_B-2410_anotado.metadata.CBPs.tsv\", sep='\\t')\n",
    "\n",
    "data_frames = [df_JCM4529 , df_NRRL_B12102, df_SID8161, df_NRRL_B2410]"
   ]
  },
  {
   "cell_type": "code",
   "execution_count": 4,
   "id": "0aed6ddb-72f5-415a-ac0d-9d27f0f2482c",
   "metadata": {},
   "outputs": [],
   "source": [
    "Doms_JCM4529=df_JCM4529['Domain architecture']\n",
    "Doms_NRRL_B12102=df_NRRL_B12102['Domain architecture']"
   ]
  },
  {
   "cell_type": "code",
   "execution_count": 5,
   "id": "e3dd8cb4-ce22-4c4f-8e72-9328a829fafd",
   "metadata": {},
   "outputs": [],
   "source": [
    "#Transforming the strings of domain architectures in lists\n",
    "def domain_list(domain_architecture):\n",
    "    final_list = []\n",
    "    p_domain = \"\"\n",
    "    for i in domain_architecture:\n",
    "        if i == '|':\n",
    "            final_list.append(p_domain)\n",
    "            p_domain = ''\n",
    "        elif (i != ' ') and (i != '>'):\n",
    "            p_domain = p_domain+i\n",
    "            \n",
    "    return final_list\n",
    "\n",
    "#Extracting the domains of a given type from a dataframe\n",
    "def proteins_of_type(protein_type, cbps):\n",
    "    architecture=[]\n",
    "    for i in range(len(cbps)):\n",
    "        if cbps['Core Biosynthetic Protein type'][i]==protein_type:\n",
    "            architecture.append(domain_list(cbps['Domain architecture'][i]))\n",
    "                   \n",
    "    return architecture"
   ]
  },
  {
   "cell_type": "code",
   "execution_count": 6,
   "id": "83ef61ce-b2c5-423a-b895-943d1b180519",
   "metadata": {},
   "outputs": [],
   "source": [
    "#From a pair of lists we get the first entry k in the shorter list matching some entry j in the larger list. \n",
    "#If such a k exists, the list [[k,j]] (with the smallest j) is returned. Otherwise an empty list is returned. \n",
    "def first_matching_pairs(short_list, long_list):\n",
    "    coordinates = []\n",
    "    i = len(coordinates)\n",
    "    k = 0\n",
    "    while k < len(short_list) and i == 0:\n",
    "        for j in range(len(long_list)):\n",
    "            if short_list[k] == long_list[j]:\n",
    "                coordinates.append([k,j])\n",
    "        k = k+1\n",
    "        i = len(coordinates)\n",
    "    return coordinates\n",
    "\n",
    "#From two lists it returns the list of all possible [k,j] such that the k-th entry of the short list and\n",
    "#and the j-th entry of the long list are possible first entries of the largest common subsequence of \n",
    "#both lists. \n",
    "def departing_coordinates(short_list, long_list):\n",
    "    d_coordinates = []\n",
    "    \n",
    "    for i in range(len(short_list)):\n",
    "        if len(d_coordinates) == 0:\n",
    "            d_coordinates = first_matching_pairs(short_list, long_list)\n",
    "        \n",
    "        else:\n",
    "            n_coordinates = first_matching_pairs(short_list[d_coordinates[0][0]+1:len(short_list)], long_list[0:d_coordinates[0][1]])\n",
    "            n_coordinates_adj = []\n",
    "            for coordinate in n_coordinates:\n",
    "                n_coordinates_adj.append([d_coordinates[0][0]+coordinate[0]+1,coordinate[1]])\n",
    "            \n",
    "            d_coordinates = n_coordinates_adj+d_coordinates\n",
    "            \n",
    "    return d_coordinates\n",
    "    \n",
    "    \n"
   ]
  },
  {
   "cell_type": "code",
   "execution_count": 7,
   "id": "f89261ed-9b41-4cec-bf9a-9b70a81123a3",
   "metadata": {},
   "outputs": [],
   "source": [
    "#It returns the list(s) of [i,j], where the list of short_list[i]=long_list[j] is the largest_common_subsequence.  \n",
    "def largest_common_subsequence(short_list, long_list):\n",
    "    \n",
    "    approximations = []\n",
    "    i = 0\n",
    "    k = 0\n",
    "    while (i < (len(short_list))) and (k == 0):\n",
    "        if len(approximations) == 0:\n",
    "            new_coordinates = departing_coordinates(short_list ,long_list)\n",
    "            n_approximations = []\n",
    "            for j in new_coordinates:\n",
    "                n_approximations.append([j])\n",
    "                \n",
    "            if len(n_approximations) == 0:\n",
    "                k = 1\n",
    "            approximations = n_approximations\n",
    "            \n",
    "        else:\n",
    "            n_approximations = []\n",
    "            for j in range(len(approximations)):\n",
    "                departure = approximations[j][-1]\n",
    "                further_coordinates = departing_coordinates(short_list[departure[0]+1:len(short_list)],long_list[departure[1]+1:len(long_list)])\n",
    "                if len(further_coordinates) > 0:\n",
    "                    n_approximations_j = []\n",
    "                    for coordinates in further_coordinates:\n",
    "                        n_approximations_j.append(approximations[j]+[[departure[0]+coordinates[0]+1,departure[1]+coordinates[1]+1]])\n",
    "                    \n",
    "                    n_approximations = n_approximations + n_approximations_j\n",
    "            \n",
    "            if len(n_approximations) == 0:\n",
    "                k = 1\n",
    "            else:\n",
    "                approximations = n_approximations\n",
    "            \n",
    "        i = i+1\n",
    "        \n",
    "        \n",
    "    return approximations"
   ]
  },
  {
   "cell_type": "code",
   "execution_count": 8,
   "id": "b497c8ed-5763-463b-81ef-392f040c3ab9",
   "metadata": {},
   "outputs": [],
   "source": [
    "#\n",
    "def domain_selection(short_list, long_list):\n",
    "    limits = largest_common_subsequence(short_list, long_list)[0]\n",
    "    left_limits = limits[0]\n",
    "    right_limits = limits[-1]\n",
    "    left_extension = left_limits[1]-left_limits[0]\n",
    "    right_extension = right_limits[1]+(len(short_list)-right_limits[0])\n",
    "    \n",
    "    return [short_list, long_list[left_extension:right_extension]]"
   ]
  },
  {
   "cell_type": "code",
   "execution_count": 9,
   "id": "bfaad1d9-9045-4728-9718-4cc8a659faac",
   "metadata": {},
   "outputs": [],
   "source": [
    "def ordering_lists(list_0, list_1):\n",
    "    if len(list_1)<len(list_0):\n",
    "        return [[list_1, list_0],0]\n",
    "    else:\n",
    "        return [[list_0, list_1],1]"
   ]
  },
  {
   "cell_type": "code",
   "execution_count": 17,
   "id": "eaff3c26-d611-429c-a59a-4154a5c0e604",
   "metadata": {},
   "outputs": [
    {
     "name": "stdout",
     "output_type": "stream",
     "text": [
      "['KS', 'KS_C', 'KS_Ce', 'AT', 'T/ACP']\n"
     ]
    }
   ],
   "source": [
    "print(fixed_t1pks_string )"
   ]
  },
  {
   "cell_type": "code",
   "execution_count": 18,
   "id": "4ae697c8-cae7-44aa-bc00-b1b10d40de16",
   "metadata": {},
   "outputs": [
    {
     "name": "stdout",
     "output_type": "stream",
     "text": [
      "['KS', 'KS_C', 'KS_Ce', 'AT', 'T/ACP']\n",
      "[['KS', 'KS_C', 'KS_Ce', 'AT', 'T/ACP'], ['KS', 'KS_C', 'KS_Ce', 'AT', 'DH', 'KR', 'T/ACP']]\n",
      "[['KS', 'KS_C', 'KS_Ce', 'AT', 'T/ACP'], ['KS', 'KS_C', 'KS_Ce', 'AT', 'KR']]\n",
      "[['KS', 'KS_C', 'KS_Ce', 'AT', 'T/ACP'], ['KS', 'KS_C', 'KS_Ce', 'AT', 'DH', 'KR', 'T/ACP']]\n",
      "[['KS', 'KS_C', 'KS_Ce', 'AT', 'T/ACP'], ['KS', 'KS_C', 'KS_Ce', 'AT', 'T/ACP']]\n",
      "[['KS', 'KS_C', 'KS_Ce', 'AT', 'T/ACP'], ['KS', 'KS_C', 'KS_Ce', 'AT', 'DH']]\n",
      "[['KS', 'KS_C', 'KS_Ce', 'AT', 'T/ACP'], ['KS', 'KS_C', 'KS_Ce', 'AT', 'DH', 'KR', 'T/ACP']]\n",
      "[['KS', 'KS_C', 'KS_Ce', 'AT', 'T/ACP'], ['KS', 'KS_C', 'KS_Ce', 'AT', 'PKS_DE', 'KR', 'T/ACP']]\n",
      "[['KS', 'KS_C', 'KS_Ce', 'AT', 'T/ACP'], ['KS', 'KS_C', 'KS_Ce', 'AT', 'DH', 'T/ACP']]\n",
      "[['KS', 'KS_C', 'KS_Ce', 'AT', 'T/ACP'], ['KS', 'KS_C', 'KS_Ce', 'AT', 'PKS_DE', 'KR', 'T/ACP']]\n",
      "[['KS', 'KS_C', 'KS_Ce', 'AT', 'T/ACP'], ['KS', 'KS_C', 'KS_Ce', 'AT', 'PKS_DE', 'KR', 'T/ACP']]\n",
      "[['KS', 'KS_C', 'KS_Ce', 'AT', 'T/ACP'], ['KS', 'KS_C', 'KS_Ce', 'AT', 'DH']]\n",
      "[['KS', 'KS_C', 'KS_Ce', 'AT', 'T/ACP'], ['KS', 'KS_C', 'KS_Ce', 'AT', 'DH', 'KR', 'T/ACP']]\n",
      "[['KS', 'KS_C', 'KS_Ce', 'AT', 'T/ACP'], ['KS', 'KS_C', 'KS_Ce', 'AT', 'DH', 'KR', 'T/ACP']]\n",
      "[['KS', 'KS_C', 'KS_Ce', 'AT', 'T/ACP'], ['KS', 'KS_C', 'KS_Ce', 'AT', 'DH']]\n",
      "[['KS', 'KS_C', 'KS_Ce', 'AT', 'T/ACP'], ['KS', 'KS_C', 'KS_Ce', 'AT', 'DH']]\n",
      "[['KS', 'KS_C', 'KS_Ce', 'AT', 'T/ACP'], ['T/ACP']]\n",
      "[['KS', 'KS_C', 'KS_Ce', 'AT'], ['KS', 'KS_C', 'KS_Ce', 'AT']]\n",
      "[['KS_C', 'KS_Ce', 'AT'], ['KS_C', 'KS_Ce', 'AT']]\n",
      "[['KS', 'KS_C', 'KS_Ce', 'AT', 'T/ACP'], ['KS', 'KS_C', 'KS_Ce', 'AT', 'PKS_DE']]\n",
      "[['KS', 'KS_C', 'KS_Ce', 'AT', 'T/ACP'], ['KS', 'KS_C', 'KS_Ce', 'AT', 'DH', 'T/ACP']]\n",
      "[['KS_C', 'KS_Ce'], ['KS_C', 'KS_Ce']]\n",
      "[['KS', 'KS_C', 'KS_Ce', 'AT', 'T/ACP'], ['KS', 'KS_C', 'KS_Ce', 'AT']]\n",
      "[['KS', 'KS_C', 'KS_Ce', 'AT', 'T/ACP'], ['KS', 'KS_C', 'KS_Ce', 'AT', 'DH']]\n",
      "[['KS', 'KS_C', 'KS_Ce', 'AT', 'T/ACP'], ['T/ACP']]\n",
      "[['KS_C', 'KS_Ce'], ['KS_C', 'KS_Ce']]\n",
      "[['KS', 'KS_C', 'KS_Ce', 'AT', 'T/ACP'], ['KS', 'KS_C', 'KS_Ce', 'AT', 'DH', 'KR', 'T/ACP']]\n",
      "[['KS', 'KS_C', 'KS_Ce', 'AT', 'T/ACP'], ['KS', 'KS_C', 'KS_Ce', 'AT', 'DH', 'KR', 'T/ACP']]\n",
      "[['KS', 'KS_C', 'KS_Ce', 'AT', 'T/ACP'], ['KS', 'KS_C', 'KS_Ce', 'AT', 'DH', 'KR', 'T/ACP']]\n",
      "[['KS', 'KS_C', 'KS_Ce', 'AT', 'T/ACP'], ['KS', 'KS_C', 'KS_Ce', 'AT', 'DH', 'KR', 'T/ACP']]\n",
      "[['KS', 'KS_C', 'KS_Ce', 'AT', 'T/ACP'], ['KS', 'KS_C', 'KS_Ce', 'AT', 'DH', 'KR', 'T/ACP']]\n",
      "[['KS', 'KS_C', 'KS_Ce', 'AT', 'T/ACP'], ['KS', 'KS_C', 'KS_Ce', 'AT', 'KR']]\n",
      "[['KS', 'KS_C', 'KS_Ce', 'AT', 'T/ACP'], ['KS', 'KS_C', 'KS_Ce', 'AT', 'DH']]\n",
      "[['KS', 'KS_C', 'KS_Ce', 'AT', 'T/ACP'], ['KS', 'KS_C', 'KS_Ce', 'AT', 'DH', 'ER', 'KR', 'T/ACP']]\n",
      "[['KS', 'KS_C', 'KS_Ce', 'AT', 'T/ACP'], ['KS', 'KS_C', 'KS_Ce']]\n",
      "[['KS', 'KS_C', 'KS_Ce', 'AT', 'T/ACP'], ['KS', 'KS_C', 'KS_Ce', 'AT', 'PKS_DE']]\n",
      "[['KS', 'KS_C', 'KS_Ce', 'AT', 'T/ACP'], ['KS', 'KS_C', 'KS_Ce', 'AT']]\n",
      "[['KS', 'KS_C', 'KS_Ce', 'AT', 'T/ACP'], ['KS', 'KS_C', 'KS_Ce', 'AT', 'PKS_DE', 'KR', 'T/ACP']]\n",
      "[['KS', 'KS_C', 'KS_Ce', 'AT', 'T/ACP'], ['KS', 'KS_C', 'KS_Ce', 'AT', 'PKS_DE', 'KR', 'T/ACP']]\n",
      "[['KS', 'KS_C', 'KS_Ce', 'AT', 'T/ACP'], ['KS', 'KS_C', 'KS_Ce', 'AT', 'DH', 'KR', 'T/ACP']]\n",
      "[['KS', 'KS_C', 'KS_Ce', 'AT', 'T/ACP'], ['KS', 'KS_C', 'KS_Ce', 'AT', 'KR']]\n",
      "[['KS', 'KS_C', 'KS_Ce', 'AT', 'T/ACP'], ['KS', 'KS_C', 'KS_Ce', 'AT', 'DH', 'KR', 'T/ACP']]\n",
      "[['KS', 'KS_C', 'KS_Ce', 'AT', 'T/ACP'], ['KS', 'KS_C', 'KS_Ce', 'AT', 'DH']]\n",
      "[['KS', 'KS_C', 'KS_Ce', 'AT', 'T/ACP'], ['T/ACP']]\n",
      "[['KS', 'KS_C', 'KS_Ce', 'AT', 'T/ACP'], ['KS', 'KS_C', 'KS_Ce', 'AT', 'DH', 'KR', 'T/ACP']]\n",
      "[['KS', 'KS_C', 'KS_Ce', 'AT', 'T/ACP'], ['KS', 'KS_C', 'KS_Ce', 'AT', 'DH']]\n",
      "[['KS', 'KS_C', 'KS_Ce', 'AT', 'T/ACP'], ['KS', 'KS_C', 'KS_Ce', 'AT', 'DH']]\n",
      "[['KS', 'KS_C', 'KS_Ce', 'AT', 'T/ACP'], ['KS', 'KS_C', 'KS_Ce', 'AT', 'DH', 'KR', 'T/ACP']]\n",
      "[['KS', 'KS_C', 'KS_Ce', 'AT', 'T/ACP'], ['KS', 'KS_C', 'KS_Ce', 'AT', 'DH', 'KR', 'T/ACP']]\n",
      "[['KS', 'KS_C', 'KS_Ce', 'AT', 'T/ACP'], ['KS', 'KS_C', 'KS_Ce', 'AT', 'DH', 'T/ACP']]\n",
      "[['KS', 'KS_C', 'KS_Ce', 'AT', 'T/ACP'], ['KS', 'KS_C', 'KS_Ce', 'AT']]\n",
      "[['KS', 'KS_C', 'KS_Ce', 'AT', 'T/ACP'], ['KS', 'KS_C', 'KS_Ce', 'AT', 'PKS_DE']]\n",
      "[['KS', 'KS_C', 'KS_Ce', 'AT', 'T/ACP'], ['KS', 'KS_C', 'KS_Ce', 'AT']]\n"
     ]
    }
   ],
   "source": [
    "#Proof 1 on T1PKS \n",
    "#Fixed domain string \n",
    "\n",
    "fixed_t1pks_string = domain_list(df_JCM4529['Domain architecture'][48])\n",
    "print(fixed_t1pks_string )\n",
    "\n",
    "\n",
    "for data_frame in [df_NRRL_B12102 , df_SID8161 , df_NRRL_B2410]:\n",
    "    compared_list = proteins_of_type('T1PKS', data_frame)\n",
    "    list_selected_domains = []\n",
    "    for list_ in compared_list:\n",
    "        order = ordering_lists(fixed_t1pks_string, list_)\n",
    "        selection = domain_selection(order[0][0], order[0][1])\n",
    "        if order[1] == 0:\n",
    "            list_selected_domains.append([selection[1], selection[0]])\n",
    "        else: \n",
    "            list_selected_domains.append(selection)\n",
    "            \n",
    "    for pair in list_selected_domains:\n",
    "        print(pair)"
   ]
  },
  {
   "cell_type": "code",
   "execution_count": 21,
   "id": "06be9f1b-610b-4b9e-8d3b-94a4e38d8824",
   "metadata": {},
   "outputs": [
    {
     "name": "stdout",
     "output_type": "stream",
     "text": [
      "Fixed domain string\n",
      "['Docking', 'KS', 'KS_C', 'KS_Ce', 'AT', 'PKS_DE', 'KR', 'T/ACP', 'KS', 'KS_C', 'KS_Ce', 'AT', 'DH', 'ER', 'KR', 'T/ACP', 'KS', 'KS_C']\n",
      "Domain selection of fixed domain string vs. each domain string of the same type\n",
      "[['Docking', 'KS', 'KS_C', 'KS_Ce', 'AT', 'PKS_DE', 'KR', 'T/ACP', 'KS', 'KS_C', 'KS_Ce'], ['Docking', 'KS', 'KS_C', 'KS_Ce', 'AT', 'DH', 'KR', 'T/ACP', 'KS', 'KS_C', 'KS_Ce']]\n",
      "[['Docking', 'KS', 'KS_C', 'KS_Ce', 'AT', 'PKS_DE', 'KR'], ['Docking', 'KS', 'KS_C', 'KS_Ce', 'AT', 'KR']]\n",
      "[['Docking', 'KS', 'KS_C', 'KS_Ce', 'AT', 'PKS_DE', 'KR', 'T/ACP', 'KS', 'KS_C', 'KS_Ce', 'AT', 'DH', 'ER', 'KR'], ['Docking', 'KS', 'KS_C', 'KS_Ce', 'AT', 'DH', 'KR', 'T/ACP', 'KS', 'KS_C', 'KS_Ce', 'AT', 'DH', 'KR']]\n",
      "[['KS', 'KS_C', 'KS_Ce', 'AT', 'PKS_DE', 'KR', 'T/ACP'], ['KS', 'KS_C', 'KS_Ce', 'AT', 'T/ACP']]\n",
      "[['KS', 'KS_C', 'KS_Ce', 'AT', 'PKS_DE', 'KR', 'T/ACP', 'KS', 'KS_C', 'KS_Ce', 'AT', 'DH', 'ER', 'KR'], ['KS', 'KS_C', 'KS_Ce', 'AT', 'DH', 'KR']]\n",
      "[['Docking', 'KS', 'KS_C', 'KS_Ce', 'AT', 'PKS_DE', 'KR', 'T/ACP', 'KS', 'KS_C', 'KS_Ce', 'AT', 'DH'], ['T/ACP', 'KS', 'KS_C', 'KS_Ce', 'AT', 'DH', 'KR', 'T/ACP', 'KS', 'KS_C', 'KS_Ce', 'AT', 'DH']]\n",
      "[[], ['ER', 'KR', 'T/ACP', 'KS', 'KS_C', 'KS_Ce', 'AT', 'PKS_DE', 'KR', 'T/ACP', 'KS', 'KS_C', 'KS_Ce', 'AT', 'DH', 'ER', 'KR']]\n",
      "[['Docking', 'KS', 'KS_C', 'KS_Ce', 'AT', 'PKS_DE', 'KR', 'T/ACP', 'KS', 'KS_C', 'KS_Ce', 'AT', 'DH', 'ER', 'KR', 'T/ACP'], ['Docking', 'KS', 'KS_C', 'KS_Ce', 'AT', 'DH', 'T/ACP']]\n",
      "[['Docking', 'KS', 'KS_C', 'KS_Ce', 'AT', 'PKS_DE', 'KR', 'T/ACP', 'KS', 'KS_C', 'KS_Ce', 'AT', 'DH', 'ER', 'KR', 'T/ACP', 'KS', 'KS_C'], ['Docking', 'KS', 'KS_C', 'KS_Ce', 'AT', 'PKS_DE', 'KR', 'T/ACP', 'KS', 'KS_C', 'KS_Ce', 'AT', 'DH', 'ER', 'KR', 'T/ACP', 'KS', 'KS_C']]\n",
      "[['Docking', 'KS', 'KS_C', 'KS_Ce', 'AT', 'PKS_DE', 'KR', 'T/ACP', 'KS', 'KS_C', 'KS_Ce', 'AT', 'DH', 'ER', 'KR', 'T/ACP', 'KS', 'KS_C'], []]\n",
      "[['Docking', 'KS', 'KS_C', 'KS_Ce', 'AT', 'PKS_DE', 'KR', 'T/ACP', 'KS', 'KS_C', 'KS_Ce', 'AT', 'DH'], ['Docking', 'KS', 'KS_C', 'KS_Ce', 'AT', 'DH']]\n",
      "[['Docking', 'KS', 'KS_C', 'KS_Ce', 'AT', 'PKS_DE', 'KR', 'T/ACP', 'KS', 'KS_C', 'KS_Ce', 'AT', 'DH'], ['Docking', 'KS', 'KS_C', 'KS_Ce', 'AT', 'DH', 'KR', 'T/ACP', 'KS', 'KS_C', 'KS_Ce', 'AT', 'PKS_DE']]\n",
      "[['Docking', 'KS', 'KS_C', 'KS_Ce', 'AT', 'PKS_DE', 'KR', 'T/ACP', 'KS', 'KS_C', 'KS_Ce'], ['Docking', 'KS', 'KS_C', 'KS_Ce', 'AT', 'DH', 'KR', 'T/ACP', 'KS', 'KS_C', 'KS_Ce']]\n",
      "[['KR', 'T/ACP', 'KS', 'KS_C', 'KS_Ce', 'AT', 'DH'], ['KR', 'T/ACP', 'KS', 'KS_C', 'KS_Ce', 'AT', 'DH']]\n",
      "[['T/ACP', 'KS', 'KS_C', 'KS_Ce', 'AT', 'DH'], ['T/ACP', 'KS', 'KS_C', 'KS_Ce', 'AT', 'DH']]\n",
      "[['KS_C', 'KS_Ce', 'AT', 'PKS_DE', 'KR', 'T/ACP', 'KS', 'KS_C', 'KS_Ce', 'AT', 'DH', 'ER', 'KR', 'T/ACP'], ['KS_C', 'KS_Ce', 'AT', 'DH', 'KR', 'T/ACP']]\n",
      "[['KS', 'KS_C', 'KS_Ce', 'AT'], ['KS', 'KS_C', 'KS_Ce', 'AT']]\n",
      "[['KS_C', 'KS_Ce', 'AT'], ['KS_C', 'KS_Ce', 'AT']]\n",
      "[['Docking', 'KS', 'KS_C', 'KS_Ce', 'AT', 'PKS_DE'], ['Docking', 'KS', 'KS_C', 'KS_Ce', 'AT', 'PKS_DE']]\n",
      "[['Docking', 'KS', 'KS_C', 'KS_Ce', 'AT', 'PKS_DE', 'KR', 'T/ACP', 'KS', 'KS_C', 'KS_Ce', 'AT', 'DH', 'ER', 'KR', 'T/ACP'], ['Docking', 'KS', 'KS_C', 'KS_Ce', 'AT', 'DH', 'T/ACP']]\n",
      "[['KS_C', 'KS_Ce'], ['KS_C', 'KS_Ce']]\n",
      "[['Docking', 'KS', 'KS_C', 'KS_Ce', 'AT'], ['Docking', 'KS', 'KS_C', 'KS_Ce', 'AT']]\n",
      "[['T/ACP', 'KS', 'KS_C', 'KS_Ce', 'AT', 'DH'], ['T/ACP', 'KS', 'KS_C', 'KS_Ce', 'AT', 'DH']]\n",
      "[['AT', 'PKS_DE', 'KR', 'T/ACP', 'KS', 'KS_C', 'KS_Ce', 'AT', 'DH', 'ER', 'KR', 'T/ACP', 'KS', 'KS_C'], ['AT', 'DH', 'KR', 'T/ACP', 'KS', 'KS_C']]\n",
      "[['KS_C', 'KS_Ce'], ['KS_C', 'KS_Ce']]\n",
      "[['Docking', 'KS', 'KS_C', 'KS_Ce', 'AT', 'PKS_DE', 'KR', 'T/ACP', 'KS', 'KS_C', 'KS_Ce', 'AT', 'DH', 'ER', 'KR', 'T/ACP', 'KS'], ['Docking', 'KS', 'KS_C', 'KS_Ce', 'AT', 'DH', 'KR', 'T/ACP', 'KS', 'KS_C', 'KS_Ce', 'AT', 'DH', 'KR', 'T/ACP', 'KS']]\n",
      "[['AT', 'PKS_DE', 'KR', 'T/ACP', 'KS', 'KS_C', 'KS_Ce', 'AT', 'DH', 'ER', 'KR', 'T/ACP', 'KS', 'KS_C'], ['AT', 'DH', 'KR', 'T/ACP', 'KS', 'KS_C', 'KS_Ce', 'AT', 'DH', 'KR', 'T/ACP', 'KS', 'KS_C']]\n",
      "[['Docking', 'KS', 'KS_C', 'KS_Ce', 'AT', 'PKS_DE', 'KR', 'T/ACP', 'KS', 'KS_C', 'KS_Ce', 'AT', 'DH', 'ER', 'KR', 'T/ACP', 'KS', 'KS_C'], ['T/ACP', 'KS', 'KS_C', 'KS_Ce', 'AT', 'DH', 'KR', 'T/ACP', 'KS', 'KS_C', 'KS_Ce', 'AT', 'DH', 'KR', 'T/ACP', 'KS', 'KS_C']]\n",
      "[['Docking', 'KS', 'KS_C', 'KS_Ce', 'AT', 'PKS_DE', 'KR', 'T/ACP', 'KS', 'KS_C', 'KS_Ce', 'AT', 'DH', 'ER', 'KR', 'T/ACP'], ['Docking', 'KS', 'KS_C', 'KS_Ce', 'AT', 'DH', 'KR', 'T/ACP', 'KS', 'KS_C', 'KS_Ce', 'AT', 'DH', 'KR', 'T/ACP']]\n",
      "[['Docking', 'KS', 'KS_C', 'KS_Ce', 'AT', 'PKS_DE', 'KR', 'T/ACP', 'KS', 'KS_C', 'KS_Ce', 'AT', 'DH', 'ER', 'KR'], ['Docking', 'KS', 'KS_C', 'KS_Ce', 'AT', 'DH', 'KR', 'T/ACP', 'KS', 'KS_C', 'KS_Ce', 'AT', 'DH', 'KR']]\n",
      "[['Docking', 'KS', 'KS_C', 'KS_Ce', 'AT', 'PKS_DE', 'KR'], ['Docking', 'KS', 'KS_C', 'KS_Ce', 'AT', 'KR']]\n",
      "[['Docking', 'KS', 'KS_C', 'KS_Ce', 'AT', 'PKS_DE', 'KR', 'T/ACP', 'KS', 'KS_C', 'KS_Ce', 'AT', 'DH', 'ER', 'KR'], ['Docking', 'KS', 'KS_C', 'KS_Ce', 'AT', 'DH', 'KR']]\n",
      "[['PKS_DE', 'KR', 'T/ACP', 'KS', 'KS_C', 'KS_Ce', 'AT', 'DH', 'ER', 'KR', 'T/ACP', 'KS', 'KS_C'], ['ER', 'KR', 'T/ACP', 'KS', 'KS_C', 'KS_Ce', 'AT', 'DH', 'ER', 'KR', 'T/ACP', 'KS', 'KS_C', 'KS_Ce', 'AT']]\n",
      "[['KR', 'T/ACP', 'KS', 'KS_C', 'KS_Ce'], ['KR', 'T/ACP', 'KS', 'KS_C', 'KS_Ce']]\n",
      "[['Docking', 'KS', 'KS_C', 'KS_Ce', 'AT', 'PKS_DE'], ['T/ACP', 'KS', 'KS_C', 'KS_Ce', 'AT', 'PKS_DE']]\n",
      "[['KR', 'T/ACP', 'KS', 'KS_C', 'KS_Ce', 'AT'], ['KR', 'T/ACP', 'KS', 'KS_C', 'KS_Ce', 'AT']]\n",
      "[['Docking', 'KS', 'KS_C', 'KS_Ce', 'AT', 'PKS_DE', 'KR', 'T/ACP', 'KS', 'KS_C', 'KS_Ce'], ['T/ACP', 'KS', 'KS_C', 'KS_Ce', 'AT', 'PKS_DE', 'KR', 'T/ACP', 'KS', 'KS_C', 'KS_Ce']]\n",
      "[['Docking', 'KS', 'KS_C', 'KS_Ce', 'AT', 'PKS_DE', 'KR', 'T/ACP', 'KS', 'KS_C', 'KS_Ce', 'AT', 'DH'], ['T/ACP', 'KS', 'KS_C', 'KS_Ce', 'AT', 'PKS_DE', 'KR', 'T/ACP', 'KS', 'KS_C', 'KS_Ce', 'AT', 'DH']]\n",
      "[['Docking', 'KS', 'KS_C', 'KS_Ce', 'AT', 'PKS_DE', 'KR', 'T/ACP', 'KS', 'KS_C', 'KS_Ce', 'AT', 'DH', 'ER', 'KR'], ['Docking', 'KS', 'KS_C', 'KS_Ce', 'AT', 'DH', 'KR', 'T/ACP', 'KS', 'KS_C', 'KS_Ce', 'AT', 'DH', 'KR']]\n",
      "[['Docking', 'KS', 'KS_C', 'KS_Ce', 'AT', 'PKS_DE', 'KR'], ['Docking', 'KS', 'KS_C', 'KS_Ce', 'AT', 'KR']]\n",
      "[['Docking', 'KS', 'KS_C', 'KS_Ce', 'AT', 'PKS_DE', 'KR', 'T/ACP', 'KS', 'KS_C', 'KS_Ce'], ['Docking', 'KS', 'KS_C', 'KS_Ce', 'AT', 'DH', 'KR', 'T/ACP', 'KS', 'KS_C', 'KS_Ce']]\n",
      "[['KS', 'KS_C', 'KS_Ce', 'AT', 'PKS_DE', 'KR', 'T/ACP', 'KS', 'KS_C', 'KS_Ce', 'AT', 'DH', 'ER', 'KR'], ['KS', 'KS_C', 'KS_Ce', 'AT', 'DH', 'KR']]\n",
      "[['AT', 'PKS_DE', 'KR', 'T/ACP', 'KS', 'KS_C'], ['AT', 'PKS_DE', 'KR', 'T/ACP', 'KS', 'KS_C']]\n",
      "[['Docking', 'KS', 'KS_C', 'KS_Ce', 'AT', 'PKS_DE', 'KR', 'T/ACP', 'KS', 'KS_C', 'KS_Ce', 'AT', 'DH', 'ER', 'KR', 'T/ACP', 'KS', 'KS_C'], ['Docking', 'KS', 'KS_C', 'KS_Ce', 'AT', 'DH', 'KR', 'T/ACP', 'KS', 'KS_C']]\n",
      "[['T/ACP', 'KS', 'KS_C', 'KS_Ce', 'AT', 'DH'], ['T/ACP', 'KS', 'KS_C', 'KS_Ce', 'AT', 'DH']]\n",
      "[['KS', 'KS_C', 'KS_Ce', 'AT', 'PKS_DE', 'KR', 'T/ACP', 'KS', 'KS_C', 'KS_Ce', 'AT', 'DH'], ['KS', 'KS_C', 'KS_Ce', 'AT', 'DH']]\n",
      "[['Docking', 'KS', 'KS_C', 'KS_Ce', 'AT', 'PKS_DE', 'KR', 'T/ACP', 'KS', 'KS_C', 'KS_Ce', 'AT', 'DH', 'ER', 'KR', 'T/ACP', 'KS', 'KS_C'], ['T/ACP', 'KS', 'KS_C', 'KS_Ce', 'AT', 'DH', 'KR', 'T/ACP', 'KS', 'KS_C', 'KS_Ce', 'AT', 'DH', 'KR', 'T/ACP', 'KS', 'KS_C']]\n",
      "[['Docking', 'KS', 'KS_C', 'KS_Ce', 'AT', 'PKS_DE', 'KR', 'T/ACP', 'KS', 'KS_C', 'KS_Ce'], ['Docking', 'KS', 'KS_C', 'KS_Ce', 'AT', 'DH', 'KR', 'T/ACP', 'KS', 'KS_C', 'KS_Ce']]\n",
      "[['Docking', 'KS', 'KS_C', 'KS_Ce', 'AT', 'PKS_DE', 'KR', 'T/ACP', 'KS', 'KS_C', 'KS_Ce', 'AT', 'DH', 'ER', 'KR', 'T/ACP'], ['Docking', 'KS', 'KS_C', 'KS_Ce', 'AT', 'DH', 'T/ACP']]\n",
      "[['Docking', 'KS', 'KS_C', 'KS_Ce', 'AT'], ['Docking', 'KS', 'KS_C', 'KS_Ce', 'AT']]\n",
      "[['KR', 'T/ACP', 'KS', 'KS_C', 'KS_Ce', 'AT', 'DH', 'ER', 'KR'], ['KR', 'T/ACP', 'KS', 'KS_C', 'KS_Ce', 'AT', 'PKS_DE', 'KR']]\n",
      "[['AT', 'PKS_DE', 'KR', 'T/ACP', 'KS', 'KS_C', 'KS_Ce', 'AT'], ['AT', 'PKS_DE', 'KR', 'T/ACP', 'KS', 'KS_C', 'KS_Ce', 'AT']]\n"
     ]
    }
   ],
   "source": [
    "#Proof 2 on T1PKS \n",
    "#Fixed domain string \n",
    "\n",
    "fixed_t1pks_string = domain_list(df_JCM4529['Domain architecture'][61])\n",
    "print(\"Fixed domain string\")\n",
    "print(fixed_t1pks_string )\n",
    "\n",
    "print(\"Domain selection of fixed domain string vs. each domain string of the same type\")\n",
    "for data_frame in [df_NRRL_B12102 , df_SID8161 , df_NRRL_B2410]:\n",
    "    compared_list = proteins_of_type('T1PKS', data_frame)\n",
    "    list_selected_domains = []\n",
    "    for list_ in compared_list:\n",
    "        order = ordering_lists(fixed_t1pks_string, list_)\n",
    "        selection = domain_selection(order[0][0], order[0][1])\n",
    "        if order[1] == 0:\n",
    "            list_selected_domains.append([selection[1], selection[0]])\n",
    "        else: \n",
    "            list_selected_domains.append(selection)\n",
    "            \n",
    "    for pair in list_selected_domains:\n",
    "        print(pair)"
   ]
  },
  {
   "cell_type": "code",
   "execution_count": 22,
   "id": "0f744ad7-e474-4585-82ba-22f25b528ecf",
   "metadata": {},
   "outputs": [
    {
     "name": "stdout",
     "output_type": "stream",
     "text": [
      "Fixed domain string\n",
      "['C', 'A', 'A_C', 'T/ACP', 'C', 'A', 'KR']\n",
      "Domain selection of fixed domain string vs. each domain string of the same type\n"
     ]
    },
    {
     "ename": "IndexError",
     "evalue": "list index out of range",
     "output_type": "error",
     "traceback": [
      "\u001b[0;31m---------------------------------------------------------------------------\u001b[0m",
      "\u001b[0;31mIndexError\u001b[0m                                Traceback (most recent call last)",
      "\u001b[0;32m/tmp/ipykernel_4254/1217782530.py\u001b[0m in \u001b[0;36m<module>\u001b[0;34m\u001b[0m\n\u001b[1;32m     12\u001b[0m     \u001b[0;32mfor\u001b[0m \u001b[0mlist_\u001b[0m \u001b[0;32min\u001b[0m \u001b[0mcompared_list\u001b[0m\u001b[0;34m:\u001b[0m\u001b[0;34m\u001b[0m\u001b[0;34m\u001b[0m\u001b[0m\n\u001b[1;32m     13\u001b[0m         \u001b[0morder\u001b[0m \u001b[0;34m=\u001b[0m \u001b[0mordering_lists\u001b[0m\u001b[0;34m(\u001b[0m\u001b[0mfixed_t1pks_string\u001b[0m\u001b[0;34m,\u001b[0m \u001b[0mlist_\u001b[0m\u001b[0;34m)\u001b[0m\u001b[0;34m\u001b[0m\u001b[0;34m\u001b[0m\u001b[0m\n\u001b[0;32m---> 14\u001b[0;31m         \u001b[0mselection\u001b[0m \u001b[0;34m=\u001b[0m \u001b[0mdomain_selection\u001b[0m\u001b[0;34m(\u001b[0m\u001b[0morder\u001b[0m\u001b[0;34m[\u001b[0m\u001b[0;36m0\u001b[0m\u001b[0;34m]\u001b[0m\u001b[0;34m[\u001b[0m\u001b[0;36m0\u001b[0m\u001b[0;34m]\u001b[0m\u001b[0;34m,\u001b[0m \u001b[0morder\u001b[0m\u001b[0;34m[\u001b[0m\u001b[0;36m0\u001b[0m\u001b[0;34m]\u001b[0m\u001b[0;34m[\u001b[0m\u001b[0;36m1\u001b[0m\u001b[0;34m]\u001b[0m\u001b[0;34m)\u001b[0m\u001b[0;34m\u001b[0m\u001b[0;34m\u001b[0m\u001b[0m\n\u001b[0m\u001b[1;32m     15\u001b[0m         \u001b[0;32mif\u001b[0m \u001b[0morder\u001b[0m\u001b[0;34m[\u001b[0m\u001b[0;36m1\u001b[0m\u001b[0;34m]\u001b[0m \u001b[0;34m==\u001b[0m \u001b[0;36m0\u001b[0m\u001b[0;34m:\u001b[0m\u001b[0;34m\u001b[0m\u001b[0;34m\u001b[0m\u001b[0m\n\u001b[1;32m     16\u001b[0m             \u001b[0mlist_selected_domains\u001b[0m\u001b[0;34m.\u001b[0m\u001b[0mappend\u001b[0m\u001b[0;34m(\u001b[0m\u001b[0;34m[\u001b[0m\u001b[0mselection\u001b[0m\u001b[0;34m[\u001b[0m\u001b[0;36m1\u001b[0m\u001b[0;34m]\u001b[0m\u001b[0;34m,\u001b[0m \u001b[0mselection\u001b[0m\u001b[0;34m[\u001b[0m\u001b[0;36m0\u001b[0m\u001b[0;34m]\u001b[0m\u001b[0;34m]\u001b[0m\u001b[0;34m)\u001b[0m\u001b[0;34m\u001b[0m\u001b[0;34m\u001b[0m\u001b[0m\n",
      "\u001b[0;32m/tmp/ipykernel_4254/3891907101.py\u001b[0m in \u001b[0;36mdomain_selection\u001b[0;34m(short_list, long_list)\u001b[0m\n\u001b[1;32m      1\u001b[0m \u001b[0;31m#\u001b[0m\u001b[0;34m\u001b[0m\u001b[0;34m\u001b[0m\u001b[0;34m\u001b[0m\u001b[0m\n\u001b[1;32m      2\u001b[0m \u001b[0;32mdef\u001b[0m \u001b[0mdomain_selection\u001b[0m\u001b[0;34m(\u001b[0m\u001b[0mshort_list\u001b[0m\u001b[0;34m,\u001b[0m \u001b[0mlong_list\u001b[0m\u001b[0;34m)\u001b[0m\u001b[0;34m:\u001b[0m\u001b[0;34m\u001b[0m\u001b[0;34m\u001b[0m\u001b[0m\n\u001b[0;32m----> 3\u001b[0;31m     \u001b[0mlimits\u001b[0m \u001b[0;34m=\u001b[0m \u001b[0mlargest_common_subsequence\u001b[0m\u001b[0;34m(\u001b[0m\u001b[0mshort_list\u001b[0m\u001b[0;34m,\u001b[0m \u001b[0mlong_list\u001b[0m\u001b[0;34m)\u001b[0m\u001b[0;34m[\u001b[0m\u001b[0;36m0\u001b[0m\u001b[0;34m]\u001b[0m\u001b[0;34m\u001b[0m\u001b[0;34m\u001b[0m\u001b[0m\n\u001b[0m\u001b[1;32m      4\u001b[0m     \u001b[0mleft_limits\u001b[0m \u001b[0;34m=\u001b[0m \u001b[0mlimits\u001b[0m\u001b[0;34m[\u001b[0m\u001b[0;36m0\u001b[0m\u001b[0;34m]\u001b[0m\u001b[0;34m\u001b[0m\u001b[0;34m\u001b[0m\u001b[0m\n\u001b[1;32m      5\u001b[0m     \u001b[0mright_limits\u001b[0m \u001b[0;34m=\u001b[0m \u001b[0mlimits\u001b[0m\u001b[0;34m[\u001b[0m\u001b[0;34m-\u001b[0m\u001b[0;36m1\u001b[0m\u001b[0;34m]\u001b[0m\u001b[0;34m\u001b[0m\u001b[0;34m\u001b[0m\u001b[0m\n",
      "\u001b[0;31mIndexError\u001b[0m: list index out of range"
     ]
    }
   ],
   "source": [
    "#Proof 1 on NRPS\n",
    "#Fixed domain string \n",
    "\n",
    "fixed_t1pks_string = domain_list(df_JCM4529['Domain architecture'][46])\n",
    "print(\"Fixed domain string\")\n",
    "print(fixed_t1pks_string )\n",
    "\n",
    "print(\"Domain selection of fixed domain string vs. each domain string of the same type\")\n",
    "for data_frame in [df_NRRL_B12102 , df_SID8161 , df_NRRL_B2410]:\n",
    "    compared_list = proteins_of_type('NRPS', data_frame)\n",
    "    list_selected_domains = []\n",
    "    for list_ in compared_list:\n",
    "        order = ordering_lists(fixed_t1pks_string, list_)\n",
    "        selection = domain_selection(order[0][0], order[0][1])\n",
    "        if order[1] == 0:\n",
    "            list_selected_domains.append([selection[1], selection[0]])\n",
    "        else: \n",
    "            list_selected_domains.append(selection)\n",
    "            \n",
    "    for pair in list_selected_domains:\n",
    "        print(pair)"
   ]
  },
  {
   "cell_type": "code",
   "execution_count": 23,
   "id": "f02b5098-a089-4a27-a08e-f8c9b83efdc6",
   "metadata": {},
   "outputs": [
    {
     "data": {
      "text/plain": [
       "[[[1, 0]], [[1, 4]]]"
      ]
     },
     "execution_count": 23,
     "metadata": {},
     "output_type": "execute_result"
    }
   ],
   "source": [
    "largest_common_subsequence(domain_list(df_NRRL_B12102['Domain architecture'][15]),domain_list(df_JCM4529['Domain architecture'][46]))"
   ]
  },
  {
   "cell_type": "code",
   "execution_count": null,
   "id": "aaf9ae56-f76c-4979-897d-71934e5587c7",
   "metadata": {},
   "outputs": [],
   "source": []
  }
 ],
 "metadata": {
  "kernelspec": {
   "display_name": "Python 3 (ipykernel)",
   "language": "python",
   "name": "python3"
  },
  "language_info": {
   "codemirror_mode": {
    "name": "ipython",
    "version": 3
   },
   "file_extension": ".py",
   "mimetype": "text/x-python",
   "name": "python",
   "nbconvert_exporter": "python",
   "pygments_lexer": "ipython3",
   "version": "3.8.8"
  }
 },
 "nbformat": 4,
 "nbformat_minor": 5
}
