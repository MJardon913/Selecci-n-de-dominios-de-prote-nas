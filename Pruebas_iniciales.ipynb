{
 "cells": [
  {
   "cell_type": "code",
   "execution_count": 1,
   "id": "e27fc55d-5b2f-4d60-bcf5-375927417b27",
   "metadata": {},
   "outputs": [],
   "source": [
    "import Bio\n",
    "import pickle"
   ]
  },
  {
   "cell_type": "code",
   "execution_count": 3,
   "id": "265f5d98-9f7a-47b0-94a5-60a15f4031e8",
   "metadata": {},
   "outputs": [
    {
     "ename": "ModuleNotFoundError",
     "evalue": "No module named 'BGClib'",
     "output_type": "error",
     "traceback": [
      "\u001b[0;31m---------------------------------------------------------------------------\u001b[0m",
      "\u001b[0;31mModuleNotFoundError\u001b[0m                       Traceback (most recent call last)",
      "\u001b[0;32m/tmp/ipykernel_35077/3084483174.py\u001b[0m in \u001b[0;36m<module>\u001b[0;34m\u001b[0m\n\u001b[1;32m      1\u001b[0m \u001b[0;32mwith\u001b[0m \u001b[0mopen\u001b[0m\u001b[0;34m(\u001b[0m\u001b[0;34m\"Prueba_5.bgccase\"\u001b[0m\u001b[0;34m,\u001b[0m \u001b[0;34m\"rb\"\u001b[0m\u001b[0;34m)\u001b[0m \u001b[0;32mas\u001b[0m \u001b[0mdc\u001b[0m\u001b[0;34m:\u001b[0m\u001b[0;34m\u001b[0m\u001b[0;34m\u001b[0m\u001b[0m\n\u001b[0;32m----> 2\u001b[0;31m      \u001b[0mcol\u001b[0m \u001b[0;34m=\u001b[0m \u001b[0mpickle\u001b[0m\u001b[0;34m.\u001b[0m\u001b[0mload\u001b[0m\u001b[0;34m(\u001b[0m\u001b[0mdc\u001b[0m\u001b[0;34m)\u001b[0m\u001b[0;34m\u001b[0m\u001b[0;34m\u001b[0m\u001b[0m\n\u001b[0m",
      "\u001b[0;31mModuleNotFoundError\u001b[0m: No module named 'BGClib'"
     ]
    }
   ],
   "source": [
    "with open(\"Prueba_5.bgccase\", \"rb\") as dc:\n",
    "     col = pickle.load(dc)"
   ]
  },
  {
   "cell_type": "code",
   "execution_count": 1,
   "id": "36ac6d3c-8aef-4cac-97d4-57ad1098b9bc",
   "metadata": {},
   "outputs": [],
   "source": [
    "import pandas as pd"
   ]
  },
  {
   "cell_type": "code",
   "execution_count": 2,
   "id": "c8b58628-e141-4410-8fd4-a5d1693b50b6",
   "metadata": {},
   "outputs": [],
   "source": [
    "df_JCM4529 = pd.read_csv(\"JCM4529_anotado.metadata.CBPs.tsv\", sep='\\t')\n",
    "df_NRRL_B12102 = pd.read_csv(\"NRRL_B-12102_anotado.metadata.CBPs.tsv\", sep='\\t')\n",
    "df_SID8161 = pd.read_csv(\"SID8161_anotado.metadata.CBPs.tsv\", sep='\\t')\n",
    "df_NRRL_B2410 = pd.read_csv(\"NRRL_B-2410_anotado.metadata.CBPs.tsv\", sep='\\t')\n",
    "\n",
    "data_frames = [df_JCM4529 , df_NRRL_B12102, df_SID8161, df_NRRL_B2410]"
   ]
  },
  {
   "cell_type": "code",
   "execution_count": 3,
   "id": "0aed6ddb-72f5-415a-ac0d-9d27f0f2482c",
   "metadata": {},
   "outputs": [],
   "source": [
    "Doms_JCM4529=df_JCM4529['Domain architecture']\n",
    "Doms_NRRL_B12102=df_NRRL_B12102['Domain architecture']"
   ]
  },
  {
   "cell_type": "code",
   "execution_count": 4,
   "id": "bf5c0a7a-4842-448c-b695-f66b3274aa1c",
   "metadata": {},
   "outputs": [
    {
     "name": "stdout",
     "output_type": "stream",
     "text": [
      "Lant_dehydr_N | Lant_dehydr_C >\n"
     ]
    }
   ],
   "source": [
    "print(Doms_JCM4529[2])\n",
    "#print(Doms_NRRL_B12102)"
   ]
  },
  {
   "cell_type": "code",
   "execution_count": 27,
   "id": "e3dd8cb4-ce22-4c4f-8e72-9328a829fafd",
   "metadata": {},
   "outputs": [],
   "source": [
    "def domain_list(domain_architecture):\n",
    "    final_list = []\n",
    "    p_domain = \"\"\n",
    "    for i in domain_architecture:\n",
    "        if i == '|':\n",
    "            final_list.append(p_domain)\n",
    "            p_domain = ''\n",
    "        elif (i != ' ') and (i != '>'):\n",
    "            p_domain = p_domain+i\n",
    "            \n",
    "    return final_list\n",
    "\n",
    "\n",
    "def proteins_of_type(protein_type, cbps):\n",
    "    architecture=[]\n",
    "    for i in range(len(cbps)):\n",
    "        if cbps['Core Biosynthetic Protein type'][i]==protein_type:\n",
    "            architecture.append(domain_list(cbps['Domain architecture'][i]))\n",
    "                   \n",
    "    return architecture"
   ]
  },
  {
   "cell_type": "code",
   "execution_count": 49,
   "id": "83ef61ce-b2c5-423a-b895-943d1b180519",
   "metadata": {},
   "outputs": [],
   "source": [
    "def first_matching_pairs(short_list, long_list):\n",
    "    coordinates = []\n",
    "    i = len(coordinates)\n",
    "    k = 0\n",
    "    while k < len(short_list) and i == 0:\n",
    "        for j in range(len(long_list)):\n",
    "            if short_list[k] == long_list[j]:\n",
    "                coordinates.append([k,j])\n",
    "        k = k+1\n",
    "        i = len(coordinates)\n",
    "    return coordinates\n",
    "\n",
    "\n",
    "def departing_coordinates(short_list, long_list):\n",
    "    d_coordinates = []\n",
    "    \n",
    "    for i in range(len(short_list)):\n",
    "        if len(d_coordinates) == 0:\n",
    "            d_coordinates = first_matching_pairs(short_list, long_list)\n",
    "        \n",
    "        else:\n",
    "            n_coordinates = first_matching_pairs(short_list[d_coordinates[0][0]+1:len(short_list)], long_list[0:d_coordinates[0][1]])\n",
    "            n_coordinates_adj = []\n",
    "            for coordinate in n_coordinates:\n",
    "                n_coordinates_adj.append([d_coordinates[0][0]+coordinate[0]+1,coordinate[1]])\n",
    "            \n",
    "            d_coordinates = n_coordinates_adj+d_coordinates\n",
    "            \n",
    "    return d_coordinates\n",
    "    \n",
    "    \n",
    "def largest_common_subsequence(short_list, long_list):\n",
    "    \n",
    "    approximations = []\n",
    "    i = 0\n",
    "    k = 0\n",
    "    while (i < (len(short_list))) and (k == 0):\n",
    "        if len(approximations) == 0:\n",
    "            new_coordinates = departing_coordinates(short_list ,long_list)\n",
    "            n_approximations = []\n",
    "            for j in new_coordinates:\n",
    "                n_approximations.append([j])\n",
    "                \n",
    "            if len(n_approximations) == 0:\n",
    "                k = 1\n",
    "            approximations = n_approximations\n",
    "            \n",
    "        else:\n",
    "            n_approximations = []\n",
    "            for j in range(len(approximations)):\n",
    "                departure = approximations[j][-1]\n",
    "                further_coordinates = departing_coordinates(short_list[departure[0]+1:len(short_list)],long_list[departure[1]+1:len(long_list)])\n",
    "                if len(further_coordinates) > 0:\n",
    "                    n_approximations_j = []\n",
    "                    for coordinates in further_coordinates:\n",
    "                        n_approximations_j.append(approximations[j]+[[departure[0]+coordinates[0]+1,departure[1]+coordinates[1]+1]])\n",
    "                    \n",
    "                    n_approximations = n_approximations + n_approximations_j\n",
    "            \n",
    "            if len(n_approximations) == 0:\n",
    "                k = 1\n",
    "            else:\n",
    "                approximations = n_approximations\n",
    "            \n",
    "        i = i+1\n",
    "        \n",
    "        \n",
    "    return approximations"
   ]
  },
  {
   "cell_type": "code",
   "execution_count": 50,
   "id": "b497c8ed-5763-463b-81ef-392f040c3ab9",
   "metadata": {},
   "outputs": [],
   "source": [
    "def domain_selection(short_list, long_list):\n",
    "    limits = largest_common_subsequence(short_list, long_list)[0]\n",
    "    left_limits = limits[0]\n",
    "    right_limits = limits[-1]\n",
    "    left_extension = left_limits[1]-left_limits[0]\n",
    "    right_extension = right_limits[1]+(len(short_list)-right_limits[0])\n",
    "    \n",
    "    return [short_list, long_list[left_extension:right_extension]]"
   ]
  },
  {
   "cell_type": "code",
   "execution_count": 51,
   "id": "09488598-662d-49c5-9b6c-1eaa1b327d62",
   "metadata": {},
   "outputs": [
    {
     "data": {
      "text/plain": [
       "[[2, 0], [1, 3], [1, 7], [1, 11]]"
      ]
     },
     "execution_count": 51,
     "metadata": {},
     "output_type": "execute_result"
    }
   ],
   "source": [
    "de(['k','a','b','h'],['b','c','c','a','c','b','d','a','c','b','g','a'])"
   ]
  },
  {
   "cell_type": "code",
   "execution_count": 34,
   "id": "c493a510-81a4-4c9d-9ac9-2f53944ceaf6",
   "metadata": {},
   "outputs": [
    {
     "data": {
      "text/plain": [
       "list"
      ]
     },
     "execution_count": 34,
     "metadata": {},
     "output_type": "execute_result"
    }
   ],
   "source": [
    "type(a)"
   ]
  },
  {
   "cell_type": "code",
   "execution_count": 14,
   "id": "5355f362-4f78-4cb4-964e-637c909c91bc",
   "metadata": {},
   "outputs": [],
   "source": [
    "departing_coordinates"
   ]
  },
  {
   "cell_type": "code",
   "execution_count": 15,
   "id": "a9d56549-39b6-4df9-8e9f-ed8de448dd00",
   "metadata": {},
   "outputs": [
    {
     "data": {
      "text/plain": [
       "3"
      ]
     },
     "execution_count": 15,
     "metadata": {},
     "output_type": "execute_result"
    }
   ],
   "source": []
  },
  {
   "cell_type": "code",
   "execution_count": null,
   "id": "f5c546ce-9a40-4ad0-b570-a5b0347ed2b3",
   "metadata": {},
   "outputs": [],
   "source": []
  },
  {
   "cell_type": "code",
   "execution_count": null,
   "id": "6d6dd7fc-ef39-4e7f-9618-8edcbd10632a",
   "metadata": {},
   "outputs": [],
   "source": []
  },
  {
   "cell_type": "code",
   "execution_count": 32,
   "id": "2bf94b30-4c0d-4ac6-ab1f-1662eaa03377",
   "metadata": {},
   "outputs": [],
   "source": [
    "def common_letters(short_list, long_list):\n",
    "    list_of_common_letters = []\n",
    "    for i in range(len(short_list)):\n",
    "        j = 0\n",
    "        while (j < len(long_list)) and (short_list[i] != long_list[j]):\n",
    "            j = j+1\n",
    "            \n",
    "        if j < len(long_list):\n",
    "            list_of_common_letters.append([i,j])\n",
    "\n",
    "    return list_of_common_letters\n",
    "\n",
    "\n",
    "\n",
    "def selection_of_domains(domain_list_0, domain_list_1):\n",
    "    pair = []\n",
    "    if len(domain_list_0)<len(domain_list_1):\n",
    "        pair[0] = domain_list_0\n",
    "        pair[1] = domain_list_1\n",
    "    else:\n",
    "        pair[0] = domain_list_1\n",
    "        pair[1] = domain_list_0\n",
    "    \n",
    "    positions_of_subsequences = common_letters(pair[0], pair[1])\n",
    "    i = len(positions_of_subsequences)\n",
    "    while i > 1:\n",
    "        for j in range(len(positions_of_subsequences):\n",
    "            common_letters(pair[0][positions_of_subsequences[]])\n",
    "        positions_of_subsequences = common_letters"
   ]
  },
  {
   "cell_type": "code",
   "execution_count": 6,
   "id": "8deec601-5bbe-4304-9abc-637b70d59357",
   "metadata": {},
   "outputs": [],
   "source": [
    "def first_matching_pairs(short_list, long_list):\n",
    "    coordinates = []\n",
    "    i = len(coordinates)\n",
    "    k = 0\n",
    "    while k < len(short_list) and i == 0:\n",
    "        for j in range(len(long_list)):\n",
    "            if short_list[k] == long_list[j]:\n",
    "                coordinates.append([k,j])\n",
    "        k = k+1\n",
    "        i = len(coordinates)\n",
    "    return coordinates\n",
    "\n",
    "\n",
    "def departing_coordinates(short_list, long_list):\n",
    "    d_coordinates = []\n",
    "    \n",
    "    for i in range(len(short_list)):\n",
    "        if len(d_coordinates) == 0:\n",
    "            d_coordinates = first_matching_pairs(short_list, long_list)\n",
    "        \n",
    "        else:\n",
    "            d_coordinates = first_matching_pairs(short_list[d_coordinates[0][0]:len(short_list)], long_list[0:d_coordinates[0][1]])+d_coordinates\n",
    "\n",
    "    return d_coordinates"
   ]
  },
  {
   "cell_type": "code",
   "execution_count": 1,
   "id": "53ed6fb9-0d3a-477a-baec-3e6e86d67d8c",
   "metadata": {},
   "outputs": [],
   "source": [
    "a = ['1','2','3']"
   ]
  },
  {
   "cell_type": "code",
   "execution_count": 2,
   "id": "484cd71f-4ddc-4d50-92a1-bd41b3ee906f",
   "metadata": {},
   "outputs": [
    {
     "data": {
      "text/plain": [
       "'2'"
      ]
     },
     "execution_count": 2,
     "metadata": {},
     "output_type": "execute_result"
    }
   ],
   "source": [
    "a[1:3][0]"
   ]
  },
  {
   "cell_type": "code",
   "execution_count": null,
   "id": "a2c8e48b-d972-4468-a12d-2b811eed2a5e",
   "metadata": {},
   "outputs": [],
   "source": []
  },
  {
   "cell_type": "code",
   "execution_count": null,
   "id": "7212fe2d-4b6b-4018-b19e-571077640072",
   "metadata": {},
   "outputs": [],
   "source": []
  },
  {
   "cell_type": "code",
   "execution_count": 7,
   "id": "4607dec6-e854-4aaf-823c-b059c15ed085",
   "metadata": {},
   "outputs": [
    {
     "ename": "TypeError",
     "evalue": "list indices must be integers or slices, not tuple",
     "output_type": "error",
     "traceback": [
      "\u001b[0;31m---------------------------------------------------------------------------\u001b[0m",
      "\u001b[0;31mTypeError\u001b[0m                                 Traceback (most recent call last)",
      "\u001b[0;32m/tmp/ipykernel_13799/3724171852.py\u001b[0m in \u001b[0;36m<module>\u001b[0;34m\u001b[0m\n\u001b[0;32m----> 1\u001b[0;31m \u001b[0mdeparting_coordinates\u001b[0m\u001b[0;34m(\u001b[0m\u001b[0;34m[\u001b[0m\u001b[0;34m'a'\u001b[0m\u001b[0;34m,\u001b[0m\u001b[0;34m'b'\u001b[0m\u001b[0;34m]\u001b[0m\u001b[0;34m,\u001b[0m\u001b[0;34m[\u001b[0m\u001b[0;34m'b'\u001b[0m\u001b[0;34m,\u001b[0m\u001b[0;34m'c'\u001b[0m\u001b[0;34m,\u001b[0m\u001b[0;34m'c'\u001b[0m\u001b[0;34m,\u001b[0m\u001b[0;34m'a'\u001b[0m\u001b[0;34m,\u001b[0m\u001b[0;34m'c'\u001b[0m\u001b[0;34m,\u001b[0m\u001b[0;34m'b'\u001b[0m\u001b[0;34m,\u001b[0m\u001b[0;34m'a'\u001b[0m\u001b[0;34m]\u001b[0m\u001b[0;34m)\u001b[0m\u001b[0;34m\u001b[0m\u001b[0;34m\u001b[0m\u001b[0m\n\u001b[0m",
      "\u001b[0;32m/tmp/ipykernel_13799/2961714077.py\u001b[0m in \u001b[0;36mdeparting_coordinates\u001b[0;34m(short_list, long_list)\u001b[0m\n\u001b[1;32m     20\u001b[0m \u001b[0;34m\u001b[0m\u001b[0m\n\u001b[1;32m     21\u001b[0m         \u001b[0;32melse\u001b[0m\u001b[0;34m:\u001b[0m\u001b[0;34m\u001b[0m\u001b[0;34m\u001b[0m\u001b[0m\n\u001b[0;32m---> 22\u001b[0;31m             \u001b[0md_coordinates\u001b[0m \u001b[0;34m=\u001b[0m \u001b[0mfirst_matching_pairs\u001b[0m\u001b[0;34m(\u001b[0m\u001b[0mshort_list\u001b[0m\u001b[0;34m[\u001b[0m\u001b[0md_coordinates\u001b[0m\u001b[0;34m[\u001b[0m\u001b[0;36m0\u001b[0m\u001b[0;34m]\u001b[0m\u001b[0;34m[\u001b[0m\u001b[0;36m0\u001b[0m\u001b[0;34m]\u001b[0m\u001b[0;34m,\u001b[0m\u001b[0mlen\u001b[0m\u001b[0;34m(\u001b[0m\u001b[0mshort_list\u001b[0m\u001b[0;34m)\u001b[0m\u001b[0;34m]\u001b[0m\u001b[0;34m,\u001b[0m \u001b[0mlong_list\u001b[0m\u001b[0;34m[\u001b[0m\u001b[0;36m0\u001b[0m\u001b[0;34m:\u001b[0m\u001b[0md_coordinates\u001b[0m\u001b[0;34m[\u001b[0m\u001b[0;36m0\u001b[0m\u001b[0;34m]\u001b[0m\u001b[0;34m[\u001b[0m\u001b[0;36m1\u001b[0m\u001b[0;34m]\u001b[0m\u001b[0;34m]\u001b[0m\u001b[0;34m)\u001b[0m\u001b[0;34m+\u001b[0m\u001b[0md_coordinates\u001b[0m\u001b[0;34m\u001b[0m\u001b[0;34m\u001b[0m\u001b[0m\n\u001b[0m\u001b[1;32m     23\u001b[0m \u001b[0;34m\u001b[0m\u001b[0m\n\u001b[1;32m     24\u001b[0m     \u001b[0;32mreturn\u001b[0m \u001b[0md_coordinates\u001b[0m\u001b[0;34m\u001b[0m\u001b[0;34m\u001b[0m\u001b[0m\n",
      "\u001b[0;31mTypeError\u001b[0m: list indices must be integers or slices, not tuple"
     ]
    }
   ],
   "source": []
  },
  {
   "cell_type": "code",
   "execution_count": 22,
   "id": "b0a193b1-0434-4259-b16b-79a5a4002ffa",
   "metadata": {},
   "outputs": [
    {
     "data": {
      "text/plain": [
       "[['Docking',\n",
       "  'KS',\n",
       "  'KS_C',\n",
       "  'KS_Ce',\n",
       "  'AT',\n",
       "  'DH',\n",
       "  'KR',\n",
       "  'T/ACP',\n",
       "  'KS',\n",
       "  'KS_C',\n",
       "  'KS_Ce'],\n",
       " ['Docking', 'KS', 'KS_C', 'KS_Ce', 'AT', 'KR'],\n",
       " ['Docking',\n",
       "  'KS',\n",
       "  'KS_C',\n",
       "  'KS_Ce',\n",
       "  'AT',\n",
       "  'DH',\n",
       "  'KR',\n",
       "  'T/ACP',\n",
       "  'KS',\n",
       "  'KS_C',\n",
       "  'KS_Ce',\n",
       "  'AT',\n",
       "  'DH',\n",
       "  'KR'],\n",
       " ['KS', 'KS_C', 'KS_Ce', 'AT', 'T/ACP'],\n",
       " ['KS', 'KS_C', 'KS_Ce', 'AT', 'DH', 'KR'],\n",
       " ['T/ACP',\n",
       "  'KS',\n",
       "  'KS_C',\n",
       "  'KS_Ce',\n",
       "  'AT',\n",
       "  'DH',\n",
       "  'KR',\n",
       "  'T/ACP',\n",
       "  'KS',\n",
       "  'KS_C',\n",
       "  'KS_Ce',\n",
       "  'AT',\n",
       "  'DH'],\n",
       " ['ER',\n",
       "  'KR',\n",
       "  'T/ACP',\n",
       "  'KS',\n",
       "  'KS_C',\n",
       "  'KS_Ce',\n",
       "  'AT',\n",
       "  'PKS_DE',\n",
       "  'KR',\n",
       "  'T/ACP',\n",
       "  'KS',\n",
       "  'KS_C',\n",
       "  'KS_Ce',\n",
       "  'AT',\n",
       "  'DH',\n",
       "  'ER',\n",
       "  'KR'],\n",
       " ['Docking', 'KS', 'KS_C', 'KS_Ce', 'AT', 'DH', 'T/ACP'],\n",
       " ['Docking',\n",
       "  'KS',\n",
       "  'KS_C',\n",
       "  'KS_Ce',\n",
       "  'AT',\n",
       "  'PKS_DE',\n",
       "  'KR',\n",
       "  'T/ACP',\n",
       "  'KS',\n",
       "  'KS_C',\n",
       "  'KS_Ce',\n",
       "  'AT',\n",
       "  'DH',\n",
       "  'ER',\n",
       "  'KR',\n",
       "  'T/ACP',\n",
       "  'KS',\n",
       "  'KS_C',\n",
       "  'KS_Ce',\n",
       "  'AT',\n",
       "  'DH',\n",
       "  'DH',\n",
       "  'KR'],\n",
       " ['KS',\n",
       "  'KS_C',\n",
       "  'KS_Ce',\n",
       "  'AT',\n",
       "  'PKS_DE',\n",
       "  'KR',\n",
       "  'T/ACP',\n",
       "  'KS',\n",
       "  'KS_C',\n",
       "  'KS_Ce',\n",
       "  'AT',\n",
       "  'PKS_DE',\n",
       "  'KR',\n",
       "  'T/ACP',\n",
       "  'KS',\n",
       "  'KS_C',\n",
       "  'KS_Ce',\n",
       "  'AT',\n",
       "  'PKS_DE',\n",
       "  'KR',\n",
       "  'T/ACP',\n",
       "  'KS',\n",
       "  'KS_C',\n",
       "  'KS_Ce',\n",
       "  'AT',\n",
       "  'PKS_DE',\n",
       "  'KR'],\n",
       " ['Docking', 'KS', 'KS_C', 'KS_Ce', 'AT', 'DH'],\n",
       " ['Docking',\n",
       "  'KS',\n",
       "  'KS_C',\n",
       "  'KS_Ce',\n",
       "  'AT',\n",
       "  'DH',\n",
       "  'KR',\n",
       "  'T/ACP',\n",
       "  'KS',\n",
       "  'KS_C',\n",
       "  'KS_Ce',\n",
       "  'AT',\n",
       "  'PKS_DE'],\n",
       " ['Docking',\n",
       "  'KS',\n",
       "  'KS_C',\n",
       "  'KS_Ce',\n",
       "  'AT',\n",
       "  'DH',\n",
       "  'KR',\n",
       "  'T/ACP',\n",
       "  'KS',\n",
       "  'KS_C',\n",
       "  'KS_Ce'],\n",
       " ['KR', 'T/ACP', 'KS', 'KS_C', 'KS_Ce', 'AT', 'DH'],\n",
       " ['T/ACP', 'KS', 'KS_C', 'KS_Ce', 'AT', 'DH'],\n",
       " ['KS_C', 'KS_Ce', 'AT', 'DH', 'KR', 'T/ACP'],\n",
       " ['KS', 'KS_C', 'KS_Ce', 'AT'],\n",
       " ['KS_C', 'KS_Ce', 'AT']]"
      ]
     },
     "execution_count": 22,
     "metadata": {},
     "output_type": "execute_result"
    }
   ],
   "source": [
    "selection('T1PKS',df_NRRL_B12102)"
   ]
  },
  {
   "cell_type": "code",
   "execution_count": null,
   "id": "e182c0e9-6806-40dd-87cd-a668c01f888f",
   "metadata": {},
   "outputs": [],
   "source": []
  },
  {
   "cell_type": "code",
   "execution_count": 23,
   "id": "08a54333-1624-4ca6-be57-a12ebbf5b4ea",
   "metadata": {},
   "outputs": [
    {
     "data": {
      "text/plain": [
       "[['KR', 'T/ACP', 'KS', 'KS_C', 'KS_Ce', 'AT'],\n",
       " ['T/ACP',\n",
       "  'KS',\n",
       "  'KS_C',\n",
       "  'KS_Ce',\n",
       "  'AT',\n",
       "  'PKS_DE',\n",
       "  'KR',\n",
       "  'T/ACP',\n",
       "  'KS',\n",
       "  'KS_C',\n",
       "  'KS_Ce'],\n",
       " ['T/ACP',\n",
       "  'KS',\n",
       "  'KS_C',\n",
       "  'KS_Ce',\n",
       "  'AT',\n",
       "  'PKS_DE',\n",
       "  'KR',\n",
       "  'T/ACP',\n",
       "  'KS',\n",
       "  'KS_C',\n",
       "  'KS_Ce',\n",
       "  'AT',\n",
       "  'DH'],\n",
       " ['Docking',\n",
       "  'KS',\n",
       "  'KS_C',\n",
       "  'KS_Ce',\n",
       "  'AT',\n",
       "  'DH',\n",
       "  'KR',\n",
       "  'T/ACP',\n",
       "  'KS',\n",
       "  'KS_C',\n",
       "  'KS_Ce',\n",
       "  'AT',\n",
       "  'DH',\n",
       "  'KR'],\n",
       " ['Docking', 'KS', 'KS_C', 'KS_Ce', 'AT', 'KR'],\n",
       " ['Docking',\n",
       "  'KS',\n",
       "  'KS_C',\n",
       "  'KS_Ce',\n",
       "  'AT',\n",
       "  'DH',\n",
       "  'KR',\n",
       "  'T/ACP',\n",
       "  'KS',\n",
       "  'KS_C',\n",
       "  'KS_Ce'],\n",
       " ['KS', 'KS_C', 'KS_Ce', 'AT', 'DH', 'KR'],\n",
       " ['AT', 'PKS_DE', 'KR', 'T/ACP', 'KS', 'KS_C'],\n",
       " ['Docking', 'KS', 'KS_C', 'KS_Ce', 'AT', 'DH', 'KR', 'T/ACP', 'KS', 'KS_C'],\n",
       " ['T/ACP', 'KS', 'KS_C', 'KS_Ce', 'AT', 'DH'],\n",
       " ['KS', 'KS_C', 'KS_Ce', 'AT', 'DH'],\n",
       " ['T/ACP',\n",
       "  'KS',\n",
       "  'KS_C',\n",
       "  'KS_Ce',\n",
       "  'AT',\n",
       "  'DH',\n",
       "  'KR',\n",
       "  'T/ACP',\n",
       "  'KS',\n",
       "  'KS_C',\n",
       "  'KS_Ce',\n",
       "  'AT',\n",
       "  'DH',\n",
       "  'KR',\n",
       "  'T/ACP',\n",
       "  'KS',\n",
       "  'KS_C',\n",
       "  'KS_Ce'],\n",
       " ['Docking',\n",
       "  'KS',\n",
       "  'KS_C',\n",
       "  'KS_Ce',\n",
       "  'AT',\n",
       "  'DH',\n",
       "  'KR',\n",
       "  'T/ACP',\n",
       "  'KS',\n",
       "  'KS_C',\n",
       "  'KS_Ce'],\n",
       " ['Docking', 'KS', 'KS_C', 'KS_Ce', 'AT', 'DH', 'T/ACP'],\n",
       " ['Docking', 'KS', 'KS_C', 'KS_Ce', 'AT'],\n",
       " ['KR', 'T/ACP', 'KS', 'KS_C', 'KS_Ce', 'AT', 'PKS_DE', 'KR'],\n",
       " ['AT', 'PKS_DE', 'KR', 'T/ACP', 'KS', 'KS_C', 'KS_Ce', 'AT']]"
      ]
     },
     "execution_count": 23,
     "metadata": {},
     "output_type": "execute_result"
    }
   ],
   "source": [
    "selection('T1PKS',df_NRRL_B2410)"
   ]
  },
  {
   "cell_type": "code",
   "execution_count": 24,
   "id": "c2b653ef-4813-446b-b73b-85f0e66176ee",
   "metadata": {},
   "outputs": [
    {
     "data": {
      "text/plain": [
       "[['Docking', 'KS', 'KS_C', 'KS_Ce', 'AT', 'PKS_DE'],\n",
       " ['Docking', 'KS', 'KS_C', 'KS_Ce', 'AT', 'DH', 'T/ACP'],\n",
       " ['KS_C', 'KS_Ce'],\n",
       " ['Docking', 'KS', 'KS_C', 'KS_Ce', 'AT'],\n",
       " ['T/ACP', 'KS', 'KS_C', 'KS_Ce', 'AT', 'DH'],\n",
       " ['AT', 'DH', 'KR', 'T/ACP', 'KS', 'KS_C'],\n",
       " ['KS_C', 'KS_Ce'],\n",
       " ['Docking',\n",
       "  'KS',\n",
       "  'KS_C',\n",
       "  'KS_Ce',\n",
       "  'AT',\n",
       "  'DH',\n",
       "  'KR',\n",
       "  'T/ACP',\n",
       "  'KS',\n",
       "  'KS_C',\n",
       "  'KS_Ce',\n",
       "  'AT',\n",
       "  'DH',\n",
       "  'KR',\n",
       "  'T/ACP',\n",
       "  'KS'],\n",
       " ['AT',\n",
       "  'DH',\n",
       "  'KR',\n",
       "  'T/ACP',\n",
       "  'KS',\n",
       "  'KS_C',\n",
       "  'KS_Ce',\n",
       "  'AT',\n",
       "  'DH',\n",
       "  'KR',\n",
       "  'T/ACP',\n",
       "  'KS',\n",
       "  'KS_C'],\n",
       " ['T/ACP',\n",
       "  'KS',\n",
       "  'KS_C',\n",
       "  'KS_Ce',\n",
       "  'AT',\n",
       "  'DH',\n",
       "  'KR',\n",
       "  'T/ACP',\n",
       "  'KS',\n",
       "  'KS_C',\n",
       "  'KS_Ce',\n",
       "  'AT',\n",
       "  'DH',\n",
       "  'KR',\n",
       "  'T/ACP',\n",
       "  'KS',\n",
       "  'KS_C',\n",
       "  'KS_Ce',\n",
       "  'AT',\n",
       "  'DH',\n",
       "  'KR'],\n",
       " ['Docking',\n",
       "  'KS',\n",
       "  'KS_C',\n",
       "  'KS_Ce',\n",
       "  'AT',\n",
       "  'DH',\n",
       "  'KR',\n",
       "  'T/ACP',\n",
       "  'KS',\n",
       "  'KS_C',\n",
       "  'KS_Ce',\n",
       "  'AT',\n",
       "  'DH',\n",
       "  'KR',\n",
       "  'T/ACP'],\n",
       " ['Docking',\n",
       "  'KS',\n",
       "  'KS_C',\n",
       "  'KS_Ce',\n",
       "  'AT',\n",
       "  'DH',\n",
       "  'KR',\n",
       "  'T/ACP',\n",
       "  'KS',\n",
       "  'KS_C',\n",
       "  'KS_Ce',\n",
       "  'AT',\n",
       "  'DH',\n",
       "  'KR'],\n",
       " ['Docking', 'KS', 'KS_C', 'KS_Ce', 'AT', 'KR'],\n",
       " ['Docking', 'KS', 'KS_C', 'KS_Ce', 'AT', 'DH', 'KR'],\n",
       " ['ER',\n",
       "  'KR',\n",
       "  'T/ACP',\n",
       "  'KS',\n",
       "  'KS_C',\n",
       "  'KS_Ce',\n",
       "  'AT',\n",
       "  'DH',\n",
       "  'ER',\n",
       "  'KR',\n",
       "  'T/ACP',\n",
       "  'KS',\n",
       "  'KS_C',\n",
       "  'KS_Ce',\n",
       "  'AT'],\n",
       " ['KR', 'T/ACP', 'KS', 'KS_C', 'KS_Ce'],\n",
       " ['T/ACP', 'KS', 'KS_C', 'KS_Ce', 'AT', 'PKS_DE']]"
      ]
     },
     "execution_count": 24,
     "metadata": {},
     "output_type": "execute_result"
    }
   ],
   "source": [
    "selection('T1PKS',df_SID8161)"
   ]
  },
  {
   "cell_type": "code",
   "execution_count": 25,
   "id": "29296c28-a3af-43a6-83b0-f290056652a5",
   "metadata": {},
   "outputs": [
    {
     "name": "stdout",
     "output_type": "stream",
     "text": [
      "[['TubC_N', 'C', 'A', 'CMeT', 'T/ACP'], ['T/ACP', 'C', 'A', 'A_C', 'T/ACP', 'C', 'A', 'A_C'], ['A'], ['A', 'A_C', 'T/ACP', 'C', 'C', 'A', 'A_C', 'T/ACP', 'C', 'C', 'A', 'A_C'], [], [], [], ['T/ACP'], ['A', 'A_C'], ['A'], ['A'], ['C', 'A', 'A_C', 'T/ACP', 'C', 'A', 'KR'], ['C'], ['C', 'A', 'A_C', 'T/ACP', 'C', 'A', 'A_C', 'T/ACP', 'C', 'A', 'A_C', 'T/ACP', 'C'], ['C', 'A', 'A_C', 'T/ACP'], ['C', 'A', 'A_C', 'T/ACP', 'C', 'A', 'A_C', 'T/ACP'], ['C', 'A', 'A_C', 'T/ACP'], ['A', 'A_C', 'T/ACP', 'C', 'A', 'A_C', 'T/ACP'], ['A', 'A_C', 'T/ACP']]\n",
      "[]\n",
      "[['TubC_N', 'C'], ['T/ACP', 'C', 'A', 'A_C', 'T/ACP', 'C', 'A', 'A_C'], ['A'], ['A', 'A_C', 'T/ACP', 'C', 'C', 'A', 'A_C', 'T/ACP', 'C', 'C', 'A', 'A_C'], ['A'], ['C', 'A', 'A_C', 'T/ACP', 'C', 'A', 'KR'], ['C'], ['C', 'A', 'A_C', 'T/ACP', 'C', 'A', 'A_C', 'T/ACP'], ['C', 'A', 'A_C', 'T/ACP', 'C', 'A', 'A_C', 'T/ACP'], ['A'], [], ['T/ACP'], [], ['C', 'A', 'A_C', 'T/ACP', 'C', 'A', 'A_C', 'T/ACP', 'C', 'A', 'A_C', 'T/ACP', 'C', 'C'], ['C', 'A', 'A_C', 'T/ACP'], ['C']]\n",
      "[]\n",
      "[['A', 'A_C', 'T/ACP', 'C', 'C', 'A', 'A_C'], ['C', 'A', 'A_C', 'T/ACP'], ['C', 'A', 'A_C', 'T/ACP'], ['TubC_N', 'C'], ['T/ACP', 'C', 'A', 'A_C', 'T/ACP', 'C', 'A', 'A_C'], ['A'], ['A', 'A_C', 'T/ACP'], ['C', 'A', 'A_C', 'T/ACP', 'C', 'C'], ['C', 'A'], [], ['T/ACP', 'C', 'A', 'A_C', 'T/ACP', 'C', 'A', 'A_C', 'T/ACP'], ['C'], ['C', 'C', 'A', 'A_C'], ['A', 'A_C', 'T/ACP', 'C', 'A', 'A_C', 'T/ACP', 'C', 'A', 'A_C']]\n",
      "[]\n",
      "[['C', 'A', 'A_C', 'T/ACP', 'C', 'A', 'A_C', 'T/ACP', 'C', 'A', 'A_C', 'T/ACP', 'C', 'C'], ['A', 'A_C', 'T/ACP', 'C', 'C', 'A', 'A_C', 'T/ACP', 'C', 'C', 'A', 'A_C'], ['C', 'A', 'A_C', 'T/ACP'], ['C', 'A', 'A_C', 'T/ACP'], ['C', 'A', 'A_C'], ['C'], ['C', 'A', 'A_C', 'T/ACP'], ['C'], [], ['T/ACP'], ['C', 'A', 'A_C', 'T/ACP']]\n",
      "[]\n"
     ]
    }
   ],
   "source": [
    "for i in data_frames:\n",
    "    print(selection('NRPS', i))\n",
    "    print([])"
   ]
  },
  {
   "cell_type": "code",
   "execution_count": 26,
   "id": "9264c9d9-c1f6-45d5-a1a0-7f011f9f04aa",
   "metadata": {},
   "outputs": [],
   "source": [
    "sel=selection('NRPS',data_frames[0])"
   ]
  },
  {
   "cell_type": "code",
   "execution_count": 13,
   "id": "1a4f5eeb-ad60-422a-8ab3-b9edad9a2be1",
   "metadata": {},
   "outputs": [
    {
     "data": {
      "text/plain": [
       "['TubC_N | C | A | CMeT | T/ACP | TE >',\n",
       " 'T/ACP | C | A | A_C | T/ACP | C | A | A_C | T/ACP >',\n",
       " 'A | A_C >',\n",
       " 'A | A_C | T/ACP | C | C | A | A_C | T/ACP | C | C | A | A_C | T/ACP >',\n",
       " 'A >',\n",
       " 'C >',\n",
       " 'A >',\n",
       " 'T/ACP | C >',\n",
       " 'A | A_C | T/ACP >',\n",
       " 'A | A_C >',\n",
       " 'A | A_C >',\n",
       " 'C | A | A_C | T/ACP | C | A | KR | T/ACP >',\n",
       " 'C | PapA_C >',\n",
       " 'C | A | A_C | T/ACP | C | A | A_C | T/ACP | C | A | A_C | T/ACP | C | C >',\n",
       " 'C | A | A_C | T/ACP | C >',\n",
       " 'C | A | A_C | T/ACP | C | A | A_C | T/ACP | C >',\n",
       " 'C | A | A_C | T/ACP | C >',\n",
       " 'A | A_C | T/ACP | C | A | A_C | T/ACP | C >',\n",
       " 'A | A_C | T/ACP | C >']"
      ]
     },
     "execution_count": 13,
     "metadata": {},
     "output_type": "execute_result"
    }
   ],
   "source": [
    "sel"
   ]
  },
  {
   "cell_type": "code",
   "execution_count": 15,
   "id": "e073fb4d-4e19-42e6-b885-6a13a2f3d0eb",
   "metadata": {},
   "outputs": [
    {
     "data": {
      "text/plain": [
       "str"
      ]
     },
     "execution_count": 15,
     "metadata": {},
     "output_type": "execute_result"
    }
   ],
   "source": [
    "type(sel[0])"
   ]
  },
  {
   "cell_type": "code",
   "execution_count": 16,
   "id": "a082335e-2422-43c7-a0c8-d9d161670ad1",
   "metadata": {},
   "outputs": [
    {
     "data": {
      "text/plain": [
       "36"
      ]
     },
     "execution_count": 16,
     "metadata": {},
     "output_type": "execute_result"
    }
   ],
   "source": [
    "len(sel[0])"
   ]
  },
  {
   "cell_type": "code",
   "execution_count": 28,
   "id": "da5727b9-b973-4c75-859c-65b3aea765ef",
   "metadata": {},
   "outputs": [
    {
     "data": {
      "text/plain": [
       "tuple"
      ]
     },
     "execution_count": 28,
     "metadata": {},
     "output_type": "execute_result"
    }
   ],
   "source": [
    "type(())"
   ]
  },
  {
   "cell_type": "code",
   "execution_count": 34,
   "id": "987fd8a3-a384-460c-9b1c-b2e1f78391a8",
   "metadata": {},
   "outputs": [],
   "source": [
    "def common_letters(short_list, long_list):\n",
    "    list_of_common_letters = []\n",
    "    for i in range(len(short_list)):\n",
    "        j = 0\n",
    "        while (j < len(long_list)) and (short_list[i] != long_list[j]):\n",
    "            j = j+1\n",
    "            \n",
    "        if j < len(long_list):\n",
    "            list_of_common_letters.append([i,j])\n",
    "            \n",
    "    return list_of_common_letters"
   ]
  },
  {
   "cell_type": "code",
   "execution_count": 36,
   "id": "0ebfcb9f-52d5-4c73-901c-3b122e875c7e",
   "metadata": {},
   "outputs": [
    {
     "data": {
      "text/plain": [
       "[[0, 0], [2, 3]]"
      ]
     },
     "execution_count": 36,
     "metadata": {},
     "output_type": "execute_result"
    }
   ],
   "source": [
    "common_letters(['a','g','d'],['a','b','c','d','e','f'])"
   ]
  },
  {
   "cell_type": "code",
   "execution_count": 1,
   "id": "8c328313-7d03-4a6c-acee-01b895a0c725",
   "metadata": {},
   "outputs": [],
   "source": [
    "a=['a','g','d']"
   ]
  },
  {
   "cell_type": "code",
   "execution_count": 2,
   "id": "4b01ebb3-4172-4ed4-b2fc-0b58027e69b6",
   "metadata": {},
   "outputs": [
    {
     "data": {
      "text/plain": [
       "['a', 'g']"
      ]
     },
     "execution_count": 2,
     "metadata": {},
     "output_type": "execute_result"
    }
   ],
   "source": [
    "a[0:2]"
   ]
  },
  {
   "cell_type": "code",
   "execution_count": 3,
   "id": "ea88a408-bedc-4a4c-850d-95b826e5a437",
   "metadata": {},
   "outputs": [],
   "source": [
    "def first_matching_pair(short_list, long_list):\n",
    "    coordinates = []\n",
    "    i = len(coordinates)\n",
    "    k = 0\n",
    "    while k < len(short_list) and i == 0:\n",
    "        for j in range(len(long_list)):\n",
    "            if short_list[k] == long_list[j]:\n",
    "                coordinates.append([k,j])\n",
    "        k = k+1\n",
    "        i = len(coordinates)\n",
    "    return coordinates\n",
    "\n"
   ]
  },
  {
   "cell_type": "code",
   "execution_count": 4,
   "id": "8698c4ab-8be0-4dec-8b4e-bab15fd9fe54",
   "metadata": {},
   "outputs": [
    {
     "data": {
      "text/plain": [
       "[[1, 1], [1, 3]]"
      ]
     },
     "execution_count": 4,
     "metadata": {},
     "output_type": "execute_result"
    }
   ],
   "source": [
    "first_matching_pair([0,1],[2,1,2,1])"
   ]
  },
  {
   "cell_type": "code",
   "execution_count": 5,
   "id": "797d8917-221f-4b43-a3e1-ac1d2246648b",
   "metadata": {},
   "outputs": [
    {
     "data": {
      "text/plain": [
       "['__add__',\n",
       " '__class__',\n",
       " '__contains__',\n",
       " '__delattr__',\n",
       " '__delitem__',\n",
       " '__dir__',\n",
       " '__doc__',\n",
       " '__eq__',\n",
       " '__format__',\n",
       " '__ge__',\n",
       " '__getattribute__',\n",
       " '__getitem__',\n",
       " '__gt__',\n",
       " '__hash__',\n",
       " '__iadd__',\n",
       " '__imul__',\n",
       " '__init__',\n",
       " '__init_subclass__',\n",
       " '__iter__',\n",
       " '__le__',\n",
       " '__len__',\n",
       " '__lt__',\n",
       " '__mul__',\n",
       " '__ne__',\n",
       " '__new__',\n",
       " '__reduce__',\n",
       " '__reduce_ex__',\n",
       " '__repr__',\n",
       " '__reversed__',\n",
       " '__rmul__',\n",
       " '__setattr__',\n",
       " '__setitem__',\n",
       " '__sizeof__',\n",
       " '__str__',\n",
       " '__subclasshook__',\n",
       " 'append',\n",
       " 'clear',\n",
       " 'copy',\n",
       " 'count',\n",
       " 'extend',\n",
       " 'index',\n",
       " 'insert',\n",
       " 'pop',\n",
       " 'remove',\n",
       " 'reverse',\n",
       " 'sort']"
      ]
     },
     "execution_count": 5,
     "metadata": {},
     "output_type": "execute_result"
    }
   ],
   "source": [
    "dir([])"
   ]
  },
  {
   "cell_type": "code",
   "execution_count": null,
   "id": "1fdcdc76-3ef7-481f-b782-075deb6e6859",
   "metadata": {},
   "outputs": [],
   "source": []
  }
 ],
 "metadata": {
  "kernelspec": {
   "display_name": "Python 3 (ipykernel)",
   "language": "python",
   "name": "python3"
  },
  "language_info": {
   "codemirror_mode": {
    "name": "ipython",
    "version": 3
   },
   "file_extension": ".py",
   "mimetype": "text/x-python",
   "name": "python",
   "nbconvert_exporter": "python",
   "pygments_lexer": "ipython3",
   "version": "3.8.8"
  }
 },
 "nbformat": 4,
 "nbformat_minor": 5
}
